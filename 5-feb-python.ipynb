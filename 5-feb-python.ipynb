{
 "cells": [
  {
   "cell_type": "code",
   "execution_count": 2,
   "id": "32e537f9-e75d-4fbc-b907-23b84a6fdd6b",
   "metadata": {},
   "outputs": [
    {
     "data": {
      "text/plain": [
       "(150, 5, 500, 3)"
      ]
     },
     "execution_count": 2,
     "metadata": {},
     "output_type": "execute_result"
    }
   ],
   "source": [
    "## Q No. 1 :\n",
    "\"\"\"\n",
    "An object is simply a collection of data (variables) and methods (functions).\n",
    "Similarly, a class is a blueprint for that object.\n",
    "A class is considered as a blueprint of objects. We can think of the class as a sketch (prototype) of a house. \n",
    "It contains all the details about the floors, doors, windows, etc.\n",
    "Based on these descriptions we build the house. House is the object.\n",
    "\"\"\"\n",
    "class bike:\n",
    "    def __init__(self,engine,gear,speed,wt):\n",
    "        \n",
    "        self.engine=engine\n",
    "        self.gear=gear\n",
    "        self.speed =speed\n",
    "        self.wt=wt\n",
    "        \n",
    "    def return_details(self):\n",
    "            return self.engine,self.gear,self.speed,self.wt\n",
    "bike1=bike(150,5,500,3) \n",
    "bike1.return_details()"
   ]
  },
  {
   "cell_type": "code",
   "execution_count": 3,
   "id": "be585105-d4a4-4771-9fb1-59f54f1b9552",
   "metadata": {},
   "outputs": [
    {
     "data": {
      "text/plain": [
       "'\\nThe Four Pillars of Object Oriented Programming are :\\nAbstraction.\\nEncapsulation.\\nInheritance.\\nPolymorphism\\n'"
      ]
     },
     "execution_count": 3,
     "metadata": {},
     "output_type": "execute_result"
    }
   ],
   "source": [
    "## Q No. 2 :\n",
    "\"\"\"\n",
    "The Four Pillars of Object Oriented Programming are :\n",
    "Abstraction.\n",
    "Encapsulation.\n",
    "Inheritance.\n",
    "Polymorphism\n",
    "\"\"\""
   ]
  },
  {
   "cell_type": "code",
   "execution_count": 8,
   "id": "29c2c57a-7f61-4915-a052-19693d76aa02",
   "metadata": {},
   "outputs": [
    {
     "name": "stdout",
     "output_type": "stream",
     "text": [
      "I ran first\n",
      "I ran second\n"
     ]
    },
    {
     "data": {
      "text/plain": [
       "'Name: Audi R8'"
      ]
     },
     "execution_count": 8,
     "metadata": {},
     "output_type": "execute_result"
    }
   ],
   "source": [
    "## Q No. 3 :\n",
    "\"\"\"\n",
    "This type of function is also known as the constructor function. \n",
    "A constructor function is a function that is called every time a new class object is created.\n",
    "\"\"\"\n",
    "class Car:\n",
    "    def __init__(self, name):\n",
    "        self.name = name\n",
    "        print(\"I ran first\")\n",
    " \n",
    "    def product(self):\n",
    "        print(\"I ran second\")\n",
    "        return (\"Name: \" + self.name)\n",
    " \n",
    " \n",
    "C = Car('Audi R8')\n",
    "C.product()"
   ]
  },
  {
   "cell_type": "code",
   "execution_count": 9,
   "id": "cef23c2a-8f45-431d-91ba-cc72498fb129",
   "metadata": {},
   "outputs": [
    {
     "data": {
      "text/plain": [
       "'\\nThe self variable is used to represent the instance of the class which is often used in object-oriented programming. \\nIt works as a reference to the object.\\nPython uses the self parameter to refer to instance attributes and methods of the class.\\n'"
      ]
     },
     "execution_count": 9,
     "metadata": {},
     "output_type": "execute_result"
    }
   ],
   "source": [
    "## Q No. 4 :\n",
    "\"\"\"\n",
    "The self variable is used to represent the instance of the class which is often used in object-oriented programming. \n",
    "It works as a reference to the object.\n",
    "Python uses the self parameter to refer to instance attributes and methods of the class.\n",
    "\"\"\""
   ]
  },
  {
   "cell_type": "code",
   "execution_count": null,
   "id": "9abb04c9-b751-40cb-9f9d-e0861c488a4d",
   "metadata": {},
   "outputs": [],
   "source": [
    "## Q NO. 5 :\n",
    "\"\"\"\n",
    "Inheritance is a mechanism in which one class acquires the property of another class. \n",
    "\n",
    "For example, a child inherits the traits of his/her parents.\n",
    "With inheritance, we can reuse the fields and methods of the existing class\n",
    "\"\"\""
   ]
  },
  {
   "cell_type": "code",
   "execution_count": null,
   "id": "c9a4bb25-16b6-43b4-9097-25a173a5fa08",
   "metadata": {},
   "outputs": [],
   "source": []
  },
  {
   "cell_type": "code",
   "execution_count": null,
   "id": "c04975d8-1c4b-408d-8ebd-351802660e68",
   "metadata": {},
   "outputs": [],
   "source": []
  },
  {
   "cell_type": "code",
   "execution_count": null,
   "id": "90c645f7-748a-4929-86b1-bd9e8495741b",
   "metadata": {},
   "outputs": [],
   "source": []
  }
 ],
 "metadata": {
  "kernelspec": {
   "display_name": "Python 3 (ipykernel)",
   "language": "python",
   "name": "python3"
  },
  "language_info": {
   "codemirror_mode": {
    "name": "ipython",
    "version": 3
   },
   "file_extension": ".py",
   "mimetype": "text/x-python",
   "name": "python",
   "nbconvert_exporter": "python",
   "pygments_lexer": "ipython3",
   "version": "3.10.8"
  }
 },
 "nbformat": 4,
 "nbformat_minor": 5
}
